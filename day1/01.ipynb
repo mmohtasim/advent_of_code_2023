{
 "cells": [
  {
   "cell_type": "code",
   "execution_count": 35,
   "metadata": {},
   "outputs": [
    {
     "data": {
      "text/html": [
       "<div>\n",
       "<style scoped>\n",
       "    .dataframe tbody tr th:only-of-type {\n",
       "        vertical-align: middle;\n",
       "    }\n",
       "\n",
       "    .dataframe tbody tr th {\n",
       "        vertical-align: top;\n",
       "    }\n",
       "\n",
       "    .dataframe thead th {\n",
       "        text-align: right;\n",
       "    }\n",
       "</style>\n",
       "<table border=\"1\" class=\"dataframe\">\n",
       "  <thead>\n",
       "    <tr style=\"text-align: right;\">\n",
       "      <th></th>\n",
       "      <th>value</th>\n",
       "    </tr>\n",
       "  </thead>\n",
       "  <tbody>\n",
       "    <tr>\n",
       "      <th>0</th>\n",
       "      <td>5ffour295</td>\n",
       "    </tr>\n",
       "    <tr>\n",
       "      <th>1</th>\n",
       "      <td>m9qvkqlgfhtwo3seven4seven</td>\n",
       "    </tr>\n",
       "    <tr>\n",
       "      <th>2</th>\n",
       "      <td>2vdqng1sixzjlkjvq</td>\n",
       "    </tr>\n",
       "    <tr>\n",
       "      <th>3</th>\n",
       "      <td>5twonineeight3onefive</td>\n",
       "    </tr>\n",
       "    <tr>\n",
       "      <th>4</th>\n",
       "      <td>2three2seveneightseven</td>\n",
       "    </tr>\n",
       "  </tbody>\n",
       "</table>\n",
       "</div>"
      ],
      "text/plain": [
       "                       value\n",
       "0                  5ffour295\n",
       "1  m9qvkqlgfhtwo3seven4seven\n",
       "2          2vdqng1sixzjlkjvq\n",
       "3      5twonineeight3onefive\n",
       "4     2three2seveneightseven"
      ]
     },
     "execution_count": 35,
     "metadata": {},
     "output_type": "execute_result"
    }
   ],
   "source": [
    "import pandas as pd\n",
    "import re\n",
    "df = pd.read_csv(\"./input.csv\")\n",
    "df.head()"
   ]
  },
  {
   "cell_type": "code",
   "execution_count": 11,
   "metadata": {},
   "outputs": [],
   "source": [
    "def first_digit(input):\n",
    "    return re.findall(r'\\d',input)[0]\n",
    "\n",
    "def last_digit(input):\n",
    "    return re.findall(r'\\d',input)[-1]"
   ]
  },
  {
   "cell_type": "code",
   "execution_count": 18,
   "metadata": {},
   "outputs": [
    {
     "data": {
      "text/plain": [
       "55017"
      ]
     },
     "execution_count": 18,
     "metadata": {},
     "output_type": "execute_result"
    }
   ],
   "source": [
    "\n",
    "sum(df[\"value\"].apply(first_digit).astype(int))*10+sum(df[\"value\"].apply(last_digit).astype(int))\n"
   ]
  },
  {
   "cell_type": "code",
   "execution_count": 36,
   "metadata": {},
   "outputs": [],
   "source": [
    "nums = {\n",
    "    \"one\": 1,\n",
    "    \"two\": 2,\n",
    "    \"three\": 3,\n",
    "    \"four\": 4,\n",
    "    \"five\": 5,\n",
    "    \"six\": 6,\n",
    "    \"seven\": 7,\n",
    "    \"eight\": 8,\n",
    "    \"nine\": 9,\n",
    "    \"zero\": 0,\n",
    "    \"1\": 1,\n",
    "    \"2\": 2,\n",
    "    \"3\": 3,\n",
    "    \"4\": 4,\n",
    "    \"5\": 5,\n",
    "    \"6\": 6,\n",
    "    \"7\": 7,\n",
    "    \"8\": 8,\n",
    "    \"9\": 9,\n",
    "    \"0\": 0,\n",
    "}"
   ]
  },
  {
   "cell_type": "code",
   "execution_count": 37,
   "metadata": {},
   "outputs": [
    {
     "data": {
      "text/plain": [
       "['one',\n",
       " 'two',\n",
       " 'three',\n",
       " 'four',\n",
       " 'five',\n",
       " 'six',\n",
       " 'seven',\n",
       " 'eight',\n",
       " 'nine',\n",
       " 'zero',\n",
       " '1',\n",
       " '2',\n",
       " '3',\n",
       " '4',\n",
       " '5',\n",
       " '6',\n",
       " '7',\n",
       " '8',\n",
       " '9',\n",
       " '0']"
      ]
     },
     "execution_count": 37,
     "metadata": {},
     "output_type": "execute_result"
    }
   ],
   "source": [
    "matches = list(nums.keys())\n",
    "matches"
   ]
  },
  {
   "cell_type": "code",
   "execution_count": 40,
   "metadata": {},
   "outputs": [],
   "source": [
    "def digits_w_string(input):\n",
    "\n",
    "    min = len(input)\n",
    "    max = 0\n",
    "    min_idx = -1\n",
    "    max_idx = -1\n",
    "    for i in range(len(matches)):\n",
    "        new_min = input.find(matches[i])\n",
    "        new_max = input.rfind(matches[i])\n",
    "        if new_min < min and new_min != -1:\n",
    "            min = new_min\n",
    "            min_idx = i\n",
    "        if new_max > max:\n",
    "            max = new_max\n",
    "            max_idx = i\n",
    "    return nums.get(matches[min_idx]), nums.get(matches[max_idx])"
   ]
  },
  {
   "cell_type": "code",
   "execution_count": 28,
   "metadata": {},
   "outputs": [
    {
     "name": "stdout",
     "output_type": "stream",
     "text": [
      "5 29\n",
      "11 2\n"
     ]
    }
   ],
   "source": [
    "a_string = \"ooooo76sixrcznjkthreethree72nfour!\"\n",
    "matches = [\"six\", \"two\",\"four\", \"six\",\"three\", \"1\",\"2\",\"3\",\"4\",\"5\",\"6\",\"7\",\"8\",\"9\",\"0\"]\n",
    "min = len(a_string)\n",
    "max = 0\n",
    "min_idx = -1\n",
    "max_idx = -1\n",
    "for i in range(len(matches)):\n",
    "    new_min = a_string.find(matches[i])\n",
    "    new_max = a_string.rfind(matches[i])\n",
    "    if new_min < min and new_min != -1:\n",
    "        min = new_min\n",
    "        min_idx = i\n",
    "    if new_max > max:\n",
    "        max = new_max\n",
    "        max_idx = i\n",
    "print(min, max)\n",
    "print(min_idx,max_idx)\n"
   ]
  },
  {
   "cell_type": "code",
   "execution_count": 42,
   "metadata": {},
   "outputs": [],
   "source": [
    "def tup_2_int(input):\n",
    "    i = ''.join(str(x) for x in input)\n",
    "    return int(i)"
   ]
  },
  {
   "cell_type": "code",
   "execution_count": 46,
   "metadata": {},
   "outputs": [
    {
     "data": {
      "text/plain": [
       "53434"
      ]
     },
     "execution_count": 46,
     "metadata": {},
     "output_type": "execute_result"
    }
   ],
   "source": [
    "sum(df[\"value\"].apply(digits_w_string).apply(tup_2_int))"
   ]
  }
 ],
 "metadata": {
  "kernelspec": {
   "display_name": "basic",
   "language": "python",
   "name": "python3"
  },
  "language_info": {
   "codemirror_mode": {
    "name": "ipython",
    "version": 3
   },
   "file_extension": ".py",
   "mimetype": "text/x-python",
   "name": "python",
   "nbconvert_exporter": "python",
   "pygments_lexer": "ipython3",
   "version": "3.11.6"
  }
 },
 "nbformat": 4,
 "nbformat_minor": 2
}
